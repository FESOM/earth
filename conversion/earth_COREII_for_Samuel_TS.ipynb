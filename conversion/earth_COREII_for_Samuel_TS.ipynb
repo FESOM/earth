{
 "cells": [
  {
   "cell_type": "code",
   "execution_count": 1,
   "metadata": {},
   "outputs": [],
   "source": [
    "import json\n",
    "import numpy as np\n",
    "import matplotlib.pylab as plt\n",
    "%matplotlib inline\n",
    "import pyfesom2 as pf"
   ]
  },
  {
   "cell_type": "code",
   "execution_count": 2,
   "metadata": {},
   "outputs": [
    {
     "name": "stdout",
     "output_type": "stream",
     "text": [
      "/Users/nkolduno/PYTHON/DATA/LCORE_MESH/pickle_mesh_py3_fesom2\n",
      "The usepickle == True)\n",
      "The pickle file for FESOM2 exists.\n",
      "The mesh will be loaded from /Users/nkolduno/PYTHON/DATA/LCORE_MESH/pickle_mesh_py3_fesom2\n"
     ]
    }
   ],
   "source": [
    "mesh = pf.load_mesh('../DATA/LCORE_MESH/')"
   ]
  },
  {
   "cell_type": "code",
   "execution_count": 3,
   "metadata": {},
   "outputs": [
    {
     "name": "stdout",
     "output_type": "stream",
     "text": [
      "Model depth: 0.0\n",
      "Model depth: 0.0\n"
     ]
    }
   ],
   "source": [
    "temp = pf.get_data('../DATA/LCORE/', 'temp', 1950, mesh, depth = 0)\n",
    "salt = pf.get_data('../DATA/LCORE/', 'salt', 1950, mesh, depth = 0)"
   ]
  },
  {
   "cell_type": "code",
   "execution_count": 4,
   "metadata": {},
   "outputs": [],
   "source": [
    "lons = np.linspace(-180, 180, 1440)\n",
    "lats = np.linspace(-90, 90, 720)\n",
    "lons2, lats2 = np.meshgrid(lons, lats)"
   ]
  },
  {
   "cell_type": "code",
   "execution_count": 41,
   "metadata": {},
   "outputs": [],
   "source": [
    "# face_x, face_y = pf.compute_face_coords(mesh)"
   ]
  },
  {
   "cell_type": "code",
   "execution_count": 44,
   "metadata": {},
   "outputs": [],
   "source": [
    "# u_rot, v_rot = pf.vec_rotate_r2g(50, 15, -90, face_x, face_y, u, v, 0)"
   ]
  },
  {
   "cell_type": "code",
   "execution_count": 77,
   "metadata": {},
   "outputs": [],
   "source": [
    "# u_nod = pf.tonodes(u_rot, mesh)\n",
    "# v_nod = pf.tonodes(v_rot, mesh)"
   ]
  },
  {
   "cell_type": "code",
   "execution_count": 6,
   "metadata": {},
   "outputs": [],
   "source": [
    "temp_int = pf.fesom2regular(temp, mesh, lons2, lats2)\n",
    "salt_int = pf.fesom2regular(salt, mesh, lons2, lats2)"
   ]
  },
  {
   "cell_type": "code",
   "execution_count": 8,
   "metadata": {},
   "outputs": [],
   "source": [
    "# ucore = np.ma.masked_less(u_int, -100)\n",
    "# vcore = np.ma.masked_less(v_int, -100)\n",
    "\n",
    "temp_int = np.flipud(temp_int)\n",
    "salt_int = np.flipud(salt_int)"
   ]
  },
  {
   "cell_type": "code",
   "execution_count": 9,
   "metadata": {},
   "outputs": [],
   "source": [
    "temp_flat = temp_int.round(5).flatten()\n",
    "salt_flat = salt_int.round(5).flatten()"
   ]
  },
  {
   "cell_type": "code",
   "execution_count": 10,
   "metadata": {},
   "outputs": [],
   "source": [
    "temp_flat = temp_flat.tolist()\n",
    "salt_flat = salt_flat.tolist()"
   ]
  },
  {
   "cell_type": "code",
   "execution_count": 11,
   "metadata": {},
   "outputs": [],
   "source": [
    "f = open('./earth/public/data/oscar/20140131-surface-currents-oscar-0.33.json')"
   ]
  },
  {
   "cell_type": "code",
   "execution_count": 12,
   "metadata": {},
   "outputs": [],
   "source": [
    "js = json.load(f)"
   ]
  },
  {
   "cell_type": "code",
   "execution_count": 13,
   "metadata": {},
   "outputs": [],
   "source": [
    "js2 = js.copy()"
   ]
  },
  {
   "cell_type": "code",
   "execution_count": 14,
   "metadata": {},
   "outputs": [],
   "source": []
  },
  {
   "cell_type": "code",
   "execution_count": 15,
   "metadata": {},
   "outputs": [
    {
     "data": {
      "text/plain": [
       "{'discipline': 10,\n",
       " 'disciplineName': 'Oceanographic_products',\n",
       " 'center': -3,\n",
       " 'centerName': 'Earth & Space Research',\n",
       " 'refTime': '2014-01-31T00:00:00.000Z',\n",
       " 'significanceOfRT': 0,\n",
       " 'significanceOfRTName': 'Analysis',\n",
       " 'parameterCategory': 1,\n",
       " 'parameterCategoryName': 'Currents',\n",
       " 'parameterNumber': 2,\n",
       " 'parameterNumberName': 'U_component_of_current',\n",
       " 'parameterUnit': 'm.s-1',\n",
       " 'forecastTime': 0,\n",
       " 'surface1Type': 160,\n",
       " 'surface1TypeName': 'Depth below sea level',\n",
       " 'surface1Value': 15,\n",
       " 'numberPoints': 519480,\n",
       " 'shape': 0,\n",
       " 'shapeName': 'Earth spherical with radius = 6,367,470 m',\n",
       " 'scanMode': 0,\n",
       " 'nx': 1080,\n",
       " 'ny': 481,\n",
       " 'lo1': 20,\n",
       " 'la1': 80,\n",
       " 'lo2': 379.6666666666667,\n",
       " 'la2': -80,\n",
       " 'dx': 0.3333333333333333,\n",
       " 'dy': 0.3333333333333333}"
      ]
     },
     "execution_count": 15,
     "metadata": {},
     "output_type": "execute_result"
    }
   ],
   "source": [
    "js2[0]['header']"
   ]
  },
  {
   "cell_type": "code",
   "execution_count": 17,
   "metadata": {},
   "outputs": [],
   "source": [
    "js2[0]['data'] = temp_flat\n",
    "js2[0]['header']['refTime'] = '2016-02-15T00:00:00.000Z'\n",
    "js2[0]['header']['dx'] = 0.25\n",
    "js2[0]['header']['dy'] = 0.25\n",
    "js2[0]['header']['la1'] = 90\n",
    "js2[0]['header']['la2'] = -90\n",
    "js2[0]['header']['lo1'] = -180\n",
    "js2[0]['header']['lo2'] = 180\n",
    "js2[0]['header']['nx'] = 1440\n",
    "js2[0]['header']['ny'] = 720\n",
    "js2[0]['header']['numberPoints'] = 1036800\n",
    "js2[0]['header']['refTime'] = '2016-02-15T00:00:00.000Z'\n",
    "\n",
    "js2[0]['header']['centerName'] = 'AWI'\n",
    "js2[0]['header']['parameterCategoryName'] = 'Otemperature'\n",
    "js2[0]['header']['parameterNumber'] = 1\n",
    "js2[0]['header']['parameterNumberName'] = 'Potential temperature in the ocean at depth'\n",
    "js2[0]['header']['surface1Value'] = 0"
   ]
  },
  {
   "cell_type": "code",
   "execution_count": 18,
   "metadata": {},
   "outputs": [],
   "source": [
    "with open('./earth/public/data/oscar/20160215-surface-otemperature-oscar-0.33.json', 'w') as fp:\n",
    "    json.dump(js2[0], fp)"
   ]
  },
  {
   "cell_type": "code",
   "execution_count": null,
   "metadata": {},
   "outputs": [],
   "source": []
  },
  {
   "cell_type": "code",
   "execution_count": null,
   "metadata": {},
   "outputs": [],
   "source": []
  }
 ],
 "metadata": {
  "kernelspec": {
   "display_name": "Python 3",
   "language": "python",
   "name": "python3"
  },
  "language_info": {
   "codemirror_mode": {
    "name": "ipython",
    "version": 3
   },
   "file_extension": ".py",
   "mimetype": "text/x-python",
   "name": "python",
   "nbconvert_exporter": "python",
   "pygments_lexer": "ipython3",
   "version": "3.8.5"
  }
 },
 "nbformat": 4,
 "nbformat_minor": 2
}
