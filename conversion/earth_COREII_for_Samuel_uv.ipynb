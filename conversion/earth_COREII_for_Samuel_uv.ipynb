{
 "cells": [
  {
   "cell_type": "code",
   "execution_count": 20,
   "metadata": {},
   "outputs": [],
   "source": [
    "import json\n",
    "import numpy as np\n",
    "import matplotlib.pylab as plt\n",
    "%matplotlib inline\n",
    "import pyfesom2 as pf"
   ]
  },
  {
   "cell_type": "code",
   "execution_count": 21,
   "metadata": {},
   "outputs": [
    {
     "name": "stdout",
     "output_type": "stream",
     "text": [
      "/Users/nkolduno/PYTHON/DATA/LCORE_MESH/pickle_mesh_py3_fesom2\n",
      "The usepickle == True)\n",
      "The pickle file for FESOM2 exists.\n",
      "The mesh will be loaded from /Users/nkolduno/PYTHON/DATA/LCORE_MESH/pickle_mesh_py3_fesom2\n"
     ]
    }
   ],
   "source": [
    "mesh = pf.load_mesh('../DATA/LCORE_MESH/')"
   ]
  },
  {
   "cell_type": "code",
   "execution_count": 29,
   "metadata": {},
   "outputs": [
    {
     "name": "stdout",
     "output_type": "stream",
     "text": [
      "Model depth: 0.0\n",
      "Model depth: 0.0\n"
     ]
    }
   ],
   "source": [
    "u = pf.get_data('../DATA/LCORE/', 'u', 1950, mesh, depth = 0)\n",
    "v = pf.get_data('../DATA/LCORE/', 'v', 1950, mesh, depth = 0)"
   ]
  },
  {
   "cell_type": "code",
   "execution_count": 53,
   "metadata": {},
   "outputs": [],
   "source": [
    "lons = np.linspace(-180, 180, 1440)\n",
    "lats = np.linspace(-90, 90, 720)\n",
    "lons2, lats2 = np.meshgrid(lons, lats)"
   ]
  },
  {
   "cell_type": "code",
   "execution_count": 41,
   "metadata": {},
   "outputs": [],
   "source": [
    "face_x, face_y = pf.compute_face_coords(mesh)"
   ]
  },
  {
   "cell_type": "code",
   "execution_count": 44,
   "metadata": {},
   "outputs": [],
   "source": [
    "u_rot, v_rot = pf.vec_rotate_r2g(50, 15, -90, face_x, face_y, u, v, 0)"
   ]
  },
  {
   "cell_type": "code",
   "execution_count": 77,
   "metadata": {},
   "outputs": [],
   "source": [
    "u_nod = pf.tonodes(u_rot, mesh)\n",
    "v_nod = pf.tonodes(v_rot, mesh)"
   ]
  },
  {
   "cell_type": "code",
   "execution_count": 81,
   "metadata": {},
   "outputs": [],
   "source": [
    "u_int = pf.fesom2regular(u_nod, mesh, lons2, lats2)\n",
    "v_int = pf.fesom2regular(v_nod, mesh, lons2, lats2)"
   ]
  },
  {
   "cell_type": "code",
   "execution_count": 82,
   "metadata": {},
   "outputs": [],
   "source": [
    "ucore = np.ma.masked_less(u_int, -100)\n",
    "vcore = np.ma.masked_less(v_int, -100)\n",
    "\n",
    "ucore = np.flipud(ucore)\n",
    "vcore = np.flipud(vcore)"
   ]
  },
  {
   "cell_type": "code",
   "execution_count": 84,
   "metadata": {},
   "outputs": [],
   "source": [
    "ucore_flat = ucore.round(5).flatten()\n",
    "vcore_flat = vcore.round(5).flatten()"
   ]
  },
  {
   "cell_type": "code",
   "execution_count": 85,
   "metadata": {},
   "outputs": [],
   "source": [
    "ucore_flat = ucore_flat.tolist()\n",
    "vcore_flat = vcore_flat.tolist()"
   ]
  },
  {
   "cell_type": "code",
   "execution_count": 93,
   "metadata": {},
   "outputs": [],
   "source": [
    "f = open('./earth/public/data/oscar/20140131-surface-currents-oscar-0.33.json')"
   ]
  },
  {
   "cell_type": "code",
   "execution_count": 94,
   "metadata": {},
   "outputs": [],
   "source": [
    "js = json.load(f)"
   ]
  },
  {
   "cell_type": "code",
   "execution_count": 95,
   "metadata": {},
   "outputs": [],
   "source": [
    "js2 = js.copy()"
   ]
  },
  {
   "cell_type": "code",
   "execution_count": 96,
   "metadata": {},
   "outputs": [],
   "source": [
    "js2[0]['data'] = ucore_flat"
   ]
  },
  {
   "cell_type": "code",
   "execution_count": 97,
   "metadata": {},
   "outputs": [],
   "source": [
    "js2[0]['header']['refTime'] = '2016-02-15T00:00:00.000Z'\n",
    "js2[0]['header']['dx'] = 0.25\n",
    "js2[0]['header']['dy'] = 0.25\n",
    "js2[0]['header']['la1'] = 90\n",
    "js2[0]['header']['la2'] = -90\n",
    "js2[0]['header']['lo1'] = -180\n",
    "js2[0]['header']['lo2'] = 180\n",
    "js2[0]['header']['nx'] = 1440\n",
    "js2[0]['header']['ny'] = 720\n",
    "js2[0]['header']['numberPoints'] = 1036800\n",
    "js2[0]['header']['refTime'] = '2016-02-15T00:00:00.000Z'"
   ]
  },
  {
   "cell_type": "code",
   "execution_count": 98,
   "metadata": {},
   "outputs": [],
   "source": [
    "js2[1]['data'] = vcore_flat\n",
    "js2[1]['header']['refTime'] = '2016-02-15T00:00:00.000Z'\n",
    "js2[1]['header']['dx'] = 0.25\n",
    "js2[1]['header']['dy'] = 0.25\n",
    "js2[1]['header']['la1'] = 90\n",
    "js2[1]['header']['la2'] = -90\n",
    "js2[1]['header']['lo1'] = -180\n",
    "js2[1]['header']['lo2'] = 180\n",
    "js2[1]['header']['nx'] = 1440\n",
    "js2[1]['header']['ny'] = 720\n",
    "js2[1]['header']['numberPoints'] = 1036800\n",
    "js2[1]['header']['refTime'] = '2016-02-15T00:00:00.000Z'"
   ]
  },
  {
   "cell_type": "code",
   "execution_count": 99,
   "metadata": {},
   "outputs": [],
   "source": [
    "with open('./earth/public/data/oscar/20160215-surface-currents-oscar-0.33.json', 'w') as fp:\n",
    "    json.dump(js2, fp)"
   ]
  },
  {
   "cell_type": "code",
   "execution_count": null,
   "metadata": {},
   "outputs": [],
   "source": []
  },
  {
   "cell_type": "code",
   "execution_count": null,
   "metadata": {},
   "outputs": [],
   "source": []
  }
 ],
 "metadata": {
  "kernelspec": {
   "display_name": "Python 3",
   "language": "python",
   "name": "python3"
  },
  "language_info": {
   "codemirror_mode": {
    "name": "ipython",
    "version": 3
   },
   "file_extension": ".py",
   "mimetype": "text/x-python",
   "name": "python",
   "nbconvert_exporter": "python",
   "pygments_lexer": "ipython3",
   "version": "3.8.5"
  }
 },
 "nbformat": 4,
 "nbformat_minor": 2
}
